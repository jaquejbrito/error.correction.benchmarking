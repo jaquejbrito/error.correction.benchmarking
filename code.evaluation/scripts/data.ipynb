{
 "cells": [
  {
   "cell_type": "code",
   "execution_count": null,
   "metadata": {
    "collapsed": true
   },
   "outputs": [],
   "source": [
    "import pandas\n",
    "import ply\n",
    "import matplotlib.pyplot as plt\n",
    "from mpl_toolkits.mplot3d import Axes3D\n",
    "import re\n",
    "\n",
    "data = pandas.read_csv(\"prelim_analysis.csv\")\n",
    "\n",
    "\n",
    "def tool_name(list):\n",
    "    tool_list = []\n",
    "    for item in list:\n",
    "        item = item.replace(\"run.\", '')\n",
    "        item = item.replace(\".sh\", '')\n",
    "        tool_list.append(item.capitalize())\n",
    "    return tool_list\n",
    "\n",
    "\n",
    "def length(list):\n",
    "    cover = []\n",
    "    for item in list:\n",
    "        if \"50\" in item:\n",
    "            cover.append(50)\n",
    "        elif \"75\" in item:\n",
    "            cover.append(75)\n",
    "        elif \"100\" in item:\n",
    "            cover.append(100)\n",
    "    return cover\n",
    "\n",
    "\n",
    "def coverage(list):\n",
    "    coverage = []\n",
    "    for item in list:\n",
    "        m = re.search(\"cov_(\\d+)_\", item)\n",
    "        coverage.append(m.groups()[0])\n",
    "    return coverage\n",
    "\n",
    "\n",
    "def dataset(list):\n",
    "    dataset_list = []\n",
    "    for item in list:\n",
    "        if \"TRA\" in item:\n",
    "            dataset_list.append(\"TRA\")\n",
    "        else:\n",
    "            dataset_list.append(\"IGH\")\n",
    "\n",
    "    return dataset_list\n",
    "\n",
    "\n",
    "data[\"Tool\"] = tool_name(data[\"Wrapper Name\"])\n",
    "data[\"Coverage\"] = coverage(data[\"EC Filename\"])\n",
    "data[\"Length\"] = length(data[\"EC Filename\"])\n",
    "data[\"Base Sensitiviy\"] = data[\"Base - TP\"] / (data[\"Base - TP\"] + data[\"Base - TN\"])\n",
    "data[\"Base Precision\"] = data[\"Base - TP\"] / (data[\"Base - TP\"] + data[\"Base - FP\"] + data[\"Base - FP INDEL\"])\n",
    "data[\"Base Gain\"] = (data[\"Base - TP\"] - (data[\"Base - FP\"] + data[\"Base - FP INDEL\"])) / \\\n",
    "                    (data[\"Base - TP\"] + data[\"Base - FN\"])\n",
    "\n",
    "data[\"Dataset\"] = dataset(data[\"EC Filename\"])\n",
    "\n",
    "z = data.groupby([\"Tool\", \"Dataset\", \"Coverage\"])[\"Base Sensitiviy\"].mean()\n",
    "y = data.groupby([\"Tool\", \"Dataset\", \"Coverage\"])[\"Base Precision\"].mean()\n",
    "x = data.groupby([\"Tool\", \"Dataset\", \"Coverage\"])[\"Base Gain\"].mean()\n",
    "y = y.fillna(1)\n",
    "n = z.index"
   ]
  }
 ],
 "metadata": {
  "kernelspec": {
   "display_name": "Python 2",
   "language": "python",
   "name": "python2"
  },
  "language_info": {
   "codemirror_mode": {
    "name": "ipython",
    "version": 2
   },
   "file_extension": ".py",
   "mimetype": "text/x-python",
   "name": "python",
   "nbconvert_exporter": "python",
   "pygments_lexer": "ipython2",
   "version": "2.7.13"
  }
 },
 "nbformat": 4,
 "nbformat_minor": 1
}
